{
  "nbformat": 4,
  "nbformat_minor": 0,
  "metadata": {
    "colab": {
      "provenance": [],
      "authorship_tag": "ABX9TyPbfpREoU5ZhPBqjwI8AnNw",
      "include_colab_link": true
    },
    "kernelspec": {
      "name": "python3",
      "display_name": "Python 3"
    },
    "language_info": {
      "name": "python"
    }
  },
  "cells": [
    {
      "cell_type": "markdown",
      "metadata": {
        "id": "view-in-github",
        "colab_type": "text"
      },
      "source": [
        "<a href=\"https://colab.research.google.com/github/sampalasa/Itprojet/blob/main/fonction_projet_sangamayi.ipynb\" target=\"_parent\"><img src=\"https://colab.research.google.com/assets/colab-badge.svg\" alt=\"Open In Colab\"/></a>"
      ]
    },
    {
      "cell_type": "code",
      "execution_count": 1,
      "metadata": {
        "colab": {
          "base_uri": "https://localhost:8080/"
        },
        "id": "dZ9HRc5CpcNU",
        "outputId": "c4d2c532-2d35-423b-e8ae-15d88591b91e"
      },
      "outputs": [
        {
          "output_type": "stream",
          "name": "stdout",
          "text": [
            "Je suis Marie, la maman.\n",
            "Je suis Sarah, la maman.\n",
            "J'ai 10 ans.\n"
          ]
        }
      ],
      "source": [
        "class Maman:\n",
        "  \"\"\"Classe maman\"\"\"\n",
        "\n",
        "  def __init__(self, nom):\n",
        "    self.nom = nom\n",
        "\n",
        "  def parler(self):\n",
        "    print(f\"Je suis {self.nom}, la maman.\")\n",
        "\n",
        "class Fille(Maman):\n",
        "  \"\"\"Classe fille héritant de la classe maman\"\"\"\n",
        "\n",
        "  def __init__(self, nom, age):\n",
        "    super().__init__(nom)\n",
        "    self.age = age\n",
        "\n",
        "  def parler(self):\n",
        "    super().parler()\n",
        "    print(f\"J'ai {self.age} ans.\")\n",
        "\n",
        "\n",
        "maman = Maman(\"Marie\")\n",
        "\n",
        "\n",
        "fille = Fille(\"Sarah\", 10)\n",
        "\n",
        "\n",
        "maman.parler()\n",
        "fille.parler()\n"
      ]
    }
  ]
}